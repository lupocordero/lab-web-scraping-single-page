{
 "cells": [
  {
   "cell_type": "code",
   "execution_count": 2,
   "metadata": {
    "id": "XUTa8V7kCXaL"
   },
   "outputs": [],
   "source": [
    "from bs4 import BeautifulSoup"
   ]
  },
  {
   "cell_type": "code",
   "execution_count": 3,
   "metadata": {
    "colab": {
     "base_uri": "https://localhost:8080/"
    },
    "id": "vRDg8hc9CZEZ",
    "outputId": "bccd600a-87e0-4766-bbe3-eab251a70697"
   },
   "outputs": [
    {
     "data": {
      "text/plain": [
       "200"
      ]
     },
     "execution_count": 3,
     "metadata": {},
     "output_type": "execute_result"
    }
   ],
   "source": [
    "import requests\n",
    "\n",
    "r = requests.get('https://www.billboard.com/charts/hot-100')\n",
    "r.status_code"
   ]
  },
  {
   "cell_type": "code",
   "execution_count": 4,
   "metadata": {
    "colab": {
     "base_uri": "https://localhost:8080/"
    },
    "id": "5AvHjjzXChQs",
    "outputId": "d3ff8fb1-11e0-4a24-998b-91bfd3b3bf46"
   },
   "outputs": [],
   "source": [
    "html = r.content"
   ]
  },
  {
   "cell_type": "code",
   "execution_count": 30,
   "metadata": {
    "colab": {
     "base_uri": "https://localhost:8080/"
    },
    "id": "gFjJZU3TCr0S",
    "outputId": "5f570afe-9572-4de0-ab23-80a5708d02ec"
   },
   "outputs": [],
   "source": [
    "soup = BeautifulSoup(html, 'html.parser')"
   ]
  },
  {
   "cell_type": "code",
   "execution_count": 31,
   "metadata": {
    "id": "DbWv6ymiCvgq"
   },
   "outputs": [],
   "source": [
    "song = soup.find_all(\"span\", class_=\"chart-element__information__song\")\n",
    "artist = soup.find_all(\"span\", class_=\"chart-element__information__artist\")"
   ]
  },
  {
   "cell_type": "code",
   "execution_count": 32,
   "metadata": {
    "colab": {
     "base_uri": "https://localhost:8080/"
    },
    "id": "gUPXFeH8EkR1",
    "outputId": "005f7748-513c-43d7-a98c-2f74e26db074"
   },
   "outputs": [
    {
     "data": {
      "text/plain": [
       "['Leave The Door Open', 'Levitating', 'Peaches', 'Save Your Tears']"
      ]
     },
     "execution_count": 32,
     "metadata": {},
     "output_type": "execute_result"
    }
   ],
   "source": [
    "songs = []\n",
    "for a in song:\n",
    "    songs.append(a.get_text())\n",
    "\n",
    "songs[:4]"
   ]
  },
  {
   "cell_type": "code",
   "execution_count": 33,
   "metadata": {
    "colab": {
     "base_uri": "https://localhost:8080/"
    },
    "id": "dAxYAOsENClr",
    "outputId": "f6a6f7b0-578a-4d1a-cf5e-b6f72f5bdf4a"
   },
   "outputs": [
    {
     "data": {
      "text/plain": [
       "['Silk Sonic (Bruno Mars & Anderson .Paak)',\n",
       " 'Dua Lipa Featuring DaBaby',\n",
       " 'Justin Bieber Featuring Daniel Caesar & Giveon',\n",
       " 'The Weeknd & Ariana Grande']"
      ]
     },
     "execution_count": 33,
     "metadata": {},
     "output_type": "execute_result"
    }
   ],
   "source": [
    "artists = []\n",
    "for art in artist:\n",
    "  artists.append(art.get_text())\n",
    "\n",
    "artists[:4]"
   ]
  },
  {
   "cell_type": "code",
   "execution_count": 34,
   "metadata": {
    "id": "cQSIyc9DKcwR"
   },
   "outputs": [],
   "source": [
    "my_dict = zip(songs, artists)"
   ]
  },
  {
   "cell_type": "code",
   "execution_count": 35,
   "metadata": {
    "id": "en3JNPE4NaNJ"
   },
   "outputs": [],
   "source": [
    "chart_dict = dict(my_dict)"
   ]
  },
  {
   "cell_type": "code",
   "execution_count": 36,
   "metadata": {
    "id": "KiuHlVblN5iV"
   },
   "outputs": [],
   "source": [
    "import pandas as pd\n"
   ]
  },
  {
   "cell_type": "code",
   "execution_count": 37,
   "metadata": {
    "id": "lozFqJcPOARB"
   },
   "outputs": [],
   "source": [
    "table = pd.DataFrame.from_dict(chart_dict, orient='index').reset_index()"
   ]
  },
  {
   "cell_type": "code",
   "execution_count": 38,
   "metadata": {},
   "outputs": [
    {
     "data": {
      "text/html": [
       "<div>\n",
       "<style scoped>\n",
       "    .dataframe tbody tr th:only-of-type {\n",
       "        vertical-align: middle;\n",
       "    }\n",
       "\n",
       "    .dataframe tbody tr th {\n",
       "        vertical-align: top;\n",
       "    }\n",
       "\n",
       "    .dataframe thead th {\n",
       "        text-align: right;\n",
       "    }\n",
       "</style>\n",
       "<table border=\"1\" class=\"dataframe\">\n",
       "  <thead>\n",
       "    <tr style=\"text-align: right;\">\n",
       "      <th></th>\n",
       "      <th>index</th>\n",
       "      <th>0</th>\n",
       "    </tr>\n",
       "  </thead>\n",
       "  <tbody>\n",
       "    <tr>\n",
       "      <th>0</th>\n",
       "      <td>Leave The Door Open</td>\n",
       "      <td>Silk Sonic (Bruno Mars &amp; Anderson .Paak)</td>\n",
       "    </tr>\n",
       "    <tr>\n",
       "      <th>1</th>\n",
       "      <td>Levitating</td>\n",
       "      <td>Dua Lipa Featuring DaBaby</td>\n",
       "    </tr>\n",
       "    <tr>\n",
       "      <th>2</th>\n",
       "      <td>Peaches</td>\n",
       "      <td>Justin Bieber Featuring Daniel Caesar &amp; Giveon</td>\n",
       "    </tr>\n",
       "    <tr>\n",
       "      <th>3</th>\n",
       "      <td>Save Your Tears</td>\n",
       "      <td>The Weeknd &amp; Ariana Grande</td>\n",
       "    </tr>\n",
       "    <tr>\n",
       "      <th>4</th>\n",
       "      <td>Kiss Me More</td>\n",
       "      <td>Doja Cat Featuring SZA</td>\n",
       "    </tr>\n",
       "    <tr>\n",
       "      <th>...</th>\n",
       "      <td>...</td>\n",
       "      <td>...</td>\n",
       "    </tr>\n",
       "    <tr>\n",
       "      <th>95</th>\n",
       "      <td>Minimum Wage</td>\n",
       "      <td>Blake Shelton</td>\n",
       "    </tr>\n",
       "    <tr>\n",
       "      <th>96</th>\n",
       "      <td>Richer</td>\n",
       "      <td>Rod Wave Featuring Polo G</td>\n",
       "    </tr>\n",
       "    <tr>\n",
       "      <th>97</th>\n",
       "      <td>Drunk (And I Don't Wanna Go Home)</td>\n",
       "      <td>Elle King &amp; Miranda Lambert</td>\n",
       "    </tr>\n",
       "    <tr>\n",
       "      <th>98</th>\n",
       "      <td>Headshot</td>\n",
       "      <td>Lil Tjay, Polo G &amp; Fivio Foreign</td>\n",
       "    </tr>\n",
       "    <tr>\n",
       "      <th>99</th>\n",
       "      <td>Go!</td>\n",
       "      <td>Moneybagg Yo Featuring BIG30</td>\n",
       "    </tr>\n",
       "  </tbody>\n",
       "</table>\n",
       "<p>100 rows × 2 columns</p>\n",
       "</div>"
      ],
      "text/plain": [
       "                                index  \\\n",
       "0                 Leave The Door Open   \n",
       "1                          Levitating   \n",
       "2                             Peaches   \n",
       "3                     Save Your Tears   \n",
       "4                        Kiss Me More   \n",
       "..                                ...   \n",
       "95                       Minimum Wage   \n",
       "96                             Richer   \n",
       "97  Drunk (And I Don't Wanna Go Home)   \n",
       "98                           Headshot   \n",
       "99                                Go!   \n",
       "\n",
       "                                                 0  \n",
       "0         Silk Sonic (Bruno Mars & Anderson .Paak)  \n",
       "1                        Dua Lipa Featuring DaBaby  \n",
       "2   Justin Bieber Featuring Daniel Caesar & Giveon  \n",
       "3                       The Weeknd & Ariana Grande  \n",
       "4                           Doja Cat Featuring SZA  \n",
       "..                                             ...  \n",
       "95                                   Blake Shelton  \n",
       "96                       Rod Wave Featuring Polo G  \n",
       "97                     Elle King & Miranda Lambert  \n",
       "98                Lil Tjay, Polo G & Fivio Foreign  \n",
       "99                    Moneybagg Yo Featuring BIG30  \n",
       "\n",
       "[100 rows x 2 columns]"
      ]
     },
     "execution_count": 38,
     "metadata": {},
     "output_type": "execute_result"
    }
   ],
   "source": [
    "table"
   ]
  },
  {
   "cell_type": "code",
   "execution_count": 39,
   "metadata": {
    "colab": {
     "base_uri": "https://localhost:8080/",
     "height": 419
    },
    "id": "uy59PjfPRCCF",
    "outputId": "0e16a81f-a56a-4f92-847e-8581888685f5"
   },
   "outputs": [],
   "source": [
    "table.columns = ['Songs', 'Artists']"
   ]
  },
  {
   "cell_type": "code",
   "execution_count": 40,
   "metadata": {
    "id": "WNqXv8pZs9dX"
   },
   "outputs": [
    {
     "data": {
      "text/html": [
       "<div>\n",
       "<style scoped>\n",
       "    .dataframe tbody tr th:only-of-type {\n",
       "        vertical-align: middle;\n",
       "    }\n",
       "\n",
       "    .dataframe tbody tr th {\n",
       "        vertical-align: top;\n",
       "    }\n",
       "\n",
       "    .dataframe thead th {\n",
       "        text-align: right;\n",
       "    }\n",
       "</style>\n",
       "<table border=\"1\" class=\"dataframe\">\n",
       "  <thead>\n",
       "    <tr style=\"text-align: right;\">\n",
       "      <th></th>\n",
       "      <th>Songs</th>\n",
       "      <th>Artists</th>\n",
       "    </tr>\n",
       "  </thead>\n",
       "  <tbody>\n",
       "    <tr>\n",
       "      <th>0</th>\n",
       "      <td>Leave The Door Open</td>\n",
       "      <td>Silk Sonic (Bruno Mars &amp; Anderson .Paak)</td>\n",
       "    </tr>\n",
       "    <tr>\n",
       "      <th>1</th>\n",
       "      <td>Levitating</td>\n",
       "      <td>Dua Lipa Featuring DaBaby</td>\n",
       "    </tr>\n",
       "    <tr>\n",
       "      <th>2</th>\n",
       "      <td>Peaches</td>\n",
       "      <td>Justin Bieber Featuring Daniel Caesar &amp; Giveon</td>\n",
       "    </tr>\n",
       "    <tr>\n",
       "      <th>3</th>\n",
       "      <td>Save Your Tears</td>\n",
       "      <td>The Weeknd &amp; Ariana Grande</td>\n",
       "    </tr>\n",
       "    <tr>\n",
       "      <th>4</th>\n",
       "      <td>Kiss Me More</td>\n",
       "      <td>Doja Cat Featuring SZA</td>\n",
       "    </tr>\n",
       "    <tr>\n",
       "      <th>...</th>\n",
       "      <td>...</td>\n",
       "      <td>...</td>\n",
       "    </tr>\n",
       "    <tr>\n",
       "      <th>95</th>\n",
       "      <td>Minimum Wage</td>\n",
       "      <td>Blake Shelton</td>\n",
       "    </tr>\n",
       "    <tr>\n",
       "      <th>96</th>\n",
       "      <td>Richer</td>\n",
       "      <td>Rod Wave Featuring Polo G</td>\n",
       "    </tr>\n",
       "    <tr>\n",
       "      <th>97</th>\n",
       "      <td>Drunk (And I Don't Wanna Go Home)</td>\n",
       "      <td>Elle King &amp; Miranda Lambert</td>\n",
       "    </tr>\n",
       "    <tr>\n",
       "      <th>98</th>\n",
       "      <td>Headshot</td>\n",
       "      <td>Lil Tjay, Polo G &amp; Fivio Foreign</td>\n",
       "    </tr>\n",
       "    <tr>\n",
       "      <th>99</th>\n",
       "      <td>Go!</td>\n",
       "      <td>Moneybagg Yo Featuring BIG30</td>\n",
       "    </tr>\n",
       "  </tbody>\n",
       "</table>\n",
       "<p>100 rows × 2 columns</p>\n",
       "</div>"
      ],
      "text/plain": [
       "                                Songs  \\\n",
       "0                 Leave The Door Open   \n",
       "1                          Levitating   \n",
       "2                             Peaches   \n",
       "3                     Save Your Tears   \n",
       "4                        Kiss Me More   \n",
       "..                                ...   \n",
       "95                       Minimum Wage   \n",
       "96                             Richer   \n",
       "97  Drunk (And I Don't Wanna Go Home)   \n",
       "98                           Headshot   \n",
       "99                                Go!   \n",
       "\n",
       "                                           Artists  \n",
       "0         Silk Sonic (Bruno Mars & Anderson .Paak)  \n",
       "1                        Dua Lipa Featuring DaBaby  \n",
       "2   Justin Bieber Featuring Daniel Caesar & Giveon  \n",
       "3                       The Weeknd & Ariana Grande  \n",
       "4                           Doja Cat Featuring SZA  \n",
       "..                                             ...  \n",
       "95                                   Blake Shelton  \n",
       "96                       Rod Wave Featuring Polo G  \n",
       "97                     Elle King & Miranda Lambert  \n",
       "98                Lil Tjay, Polo G & Fivio Foreign  \n",
       "99                    Moneybagg Yo Featuring BIG30  \n",
       "\n",
       "[100 rows x 2 columns]"
      ]
     },
     "execution_count": 40,
     "metadata": {},
     "output_type": "execute_result"
    }
   ],
   "source": [
    "table"
   ]
  },
  {
   "cell_type": "code",
   "execution_count": null,
   "metadata": {},
   "outputs": [],
   "source": []
  }
 ],
 "metadata": {
  "colab": {
   "name": "Untitled0.ipynb",
   "provenance": []
  },
  "kernelspec": {
   "display_name": "Python 3",
   "language": "python",
   "name": "python3"
  },
  "language_info": {
   "codemirror_mode": {
    "name": "ipython",
    "version": 3
   },
   "file_extension": ".py",
   "mimetype": "text/x-python",
   "name": "python",
   "nbconvert_exporter": "python",
   "pygments_lexer": "ipython3",
   "version": "3.8.5"
  }
 },
 "nbformat": 4,
 "nbformat_minor": 4
}
